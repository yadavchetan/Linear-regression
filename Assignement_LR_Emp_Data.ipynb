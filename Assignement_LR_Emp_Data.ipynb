{
 "cells": [
  {
   "cell_type": "code",
   "execution_count": 1,
   "metadata": {},
   "outputs": [
    {
     "name": "stdout",
     "output_type": "stream",
     "text": [
      "   Salary_hike  Churn_out_rate\n",
      "0         1580              92\n",
      "1         1600              85\n",
      "2         1610              80\n",
      "3         1640              75\n",
      "4         1660              72\n",
      "5         1690              70\n",
      "6         1706              68\n",
      "7         1730              65\n",
      "8         1800              62\n",
      "9         1870              60\n"
     ]
    }
   ],
   "source": [
    "#Import dataset\n",
    "\n",
    "import pandas as pd\n",
    "import numpy as np\n",
    "import matplotlib.pyplot as plt\n",
    "\n",
    "emp_data = pd.read_csv(\"emp_data.csv\")\n",
    "\n",
    "print(emp_data)"
   ]
  },
  {
   "cell_type": "code",
   "execution_count": 2,
   "metadata": {},
   "outputs": [
    {
     "data": {
      "text/plain": [
       "<matplotlib.axes._subplots.AxesSubplot at 0x1b95305dc50>"
      ]
     },
     "execution_count": 2,
     "metadata": {},
     "output_type": "execute_result"
    },
    {
     "data": {
      "image/png": "[encoded data removed]",
      "text/plain": [
       "<Figure size 432x288 with 1 Axes>"
      ]
     },
     "metadata": {
      "needs_background": "light"
     },
     "output_type": "display_data"
    }
   ],
   "source": [
    "#visualizing the data \n",
    "\n",
    "emp_data.plot.scatter(y='Churn_out_rate',x='Salary_hike',c='Blue')"
   ]
  },
  {
   "cell_type": "code",
   "execution_count": 3,
   "metadata": {},
   "outputs": [
    {
     "data": {
      "text/plain": [
       "{'whiskers': [<matplotlib.lines.Line2D at 0x1b9533fb438>,\n",
       "  <matplotlib.lines.Line2D at 0x1b9533fb780>],\n",
       " 'caps': [<matplotlib.lines.Line2D at 0x1b9533fbac8>,\n",
       "  <matplotlib.lines.Line2D at 0x1b9533fbe10>],\n",
       " 'boxes': [<matplotlib.lines.Line2D at 0x1b9533ecfd0>],\n",
       " 'medians': [<matplotlib.lines.Line2D at 0x1b9533fbef0>],\n",
       " 'fliers': [<matplotlib.lines.Line2D at 0x1b9534054e0>],\n",
       " 'means': []}"
      ]
     },
     "execution_count": 3,
     "metadata": {},
     "output_type": "execute_result"
    },
    {
     "data": {
      "image/png": "[encoded data removed]",
      "text/plain": [
       "<Figure size 432x288 with 1 Axes>"
      ]
     },
     "metadata": {
      "needs_background": "light"
     },
     "output_type": "display_data"
    }
   ],
   "source": [
    "#box plot\n",
    "#we can see that the data is skewed might require to tranfrom the data.\n",
    "\n",
    "plt.boxplot(emp_data.Salary_hike,0,'rs',0)"
   ]
  },
  {
   "cell_type": "code",
   "execution_count": 4,
   "metadata": {},
   "outputs": [
    {
     "data": {
      "text/plain": [
       "{'whiskers': [<matplotlib.lines.Line2D at 0x1b953459d30>,\n",
       "  <matplotlib.lines.Line2D at 0x1b953459e10>],\n",
       " 'caps': [<matplotlib.lines.Line2D at 0x1b953461400>,\n",
       "  <matplotlib.lines.Line2D at 0x1b953461748>],\n",
       " 'boxes': [<matplotlib.lines.Line2D at 0x1b953459908>],\n",
       " 'medians': [<matplotlib.lines.Line2D at 0x1b953461a90>],\n",
       " 'fliers': [<matplotlib.lines.Line2D at 0x1b953461dd8>],\n",
       " 'means': []}"
      ]
     },
     "execution_count": 4,
     "metadata": {},
     "output_type": "execute_result"
    },
    {
     "data": {
      "image/png": "[encoded data removed]",
      "text/plain": [
       "<Figure size 432x288 with 1 Axes>"
      ]
     },
     "metadata": {
      "needs_background": "light"
     },
     "output_type": "display_data"
    }
   ],
   "source": [
    "#box plot\n",
    "#we can see that the data is skewed might require to tranfrom the data.\n",
    "\n",
    "plt.boxplot(emp_data.Churn_out_rate,0,'rs',0)"
   ]
  },
  {
   "cell_type": "code",
   "execution_count": 5,
   "metadata": {},
   "outputs": [
    {
     "data": {
      "text/plain": [
       "-0.9117216186909112"
      ]
     },
     "execution_count": 5,
     "metadata": {},
     "output_type": "execute_result"
    }
   ],
   "source": [
    "# correlation value between X and Y\n",
    "# Both the variables are strongly correlated as the correlation value is -0.91\n",
    "\n",
    "emp_data.Churn_out_rate.corr(emp_data.Salary_hike)"
   ]
  },
  {
   "cell_type": "code",
   "execution_count": 6,
   "metadata": {},
   "outputs": [
    {
     "data": {
      "text/plain": [
       "array([[ 1.        , -0.91172162],\n",
       "       [-0.91172162,  1.        ]])"
      ]
     },
     "execution_count": 6,
     "metadata": {},
     "output_type": "execute_result"
    }
   ],
   "source": [
    "np.corrcoef(emp_data.Salary_hike,emp_data.Churn_out_rate)"
   ]
  },
  {
   "cell_type": "code",
   "execution_count": 7,
   "metadata": {},
   "outputs": [],
   "source": [
    "# Improting the statsmodel.formula.api for linear regression model\n",
    "\n",
    "import statsmodels.formula.api as smf\n",
    "\n",
    "model1=smf.ols(\"Churn_out_rate~Salary_hike\",data=emp_data).fit()\n",
    "\n",
    "    "
   ]
  },
  {
   "cell_type": "code",
   "execution_count": 8,
   "metadata": {},
   "outputs": [
    {
     "data": {
      "text/plain": [
       "Intercept      244.364911\n",
       "Salary_hike     -0.101543\n",
       "dtype: float64"
      ]
     },
     "execution_count": 8,
     "metadata": {},
     "output_type": "execute_result"
    }
   ],
   "source": [
    "# For getting coefficients of the varibles used in equation\n",
    "model1.params"
   ]
  },
  {
   "cell_type": "code",
   "execution_count": 9,
   "metadata": {},
   "outputs": [
    {
     "name": "stderr",
     "output_type": "stream",
     "text": [
      "C:\\Users\\cyadav\\AppData\\Local\\Continuum\\anaconda3\\lib\\site-packages\\scipy\\stats\\stats.py:1394: UserWarning: kurtosistest only valid for n>=20 ... continuing anyway, n=10\n",
      "  \"anyway, n=%i\" % int(n))\n"
     ]
    },
    {
     "data": {
      "text/html": [
       "<table class=\"simpletable\">\n",
       "<caption>OLS Regression Results</caption>\n",
       "<tr>\n",
       "  <th>Dep. Variable:</th>     <td>Churn_out_rate</td>  <th>  R-squared:         </th> <td>   0.831</td>\n",
       "</tr>\n",
       "<tr>\n",
       "  <th>Model:</th>                   <td>OLS</td>       <th>  Adj. R-squared:    </th> <td>   0.810</td>\n",
       "</tr>\n",
       "<tr>\n",
       "  <th>Method:</th>             <td>Least Squares</td>  <th>  F-statistic:       </th> <td>   39.40</td>\n",
       "</tr>\n",
       "<tr>\n",
       "  <th>Date:</th>             <td>Fri, 12 Jun 2020</td> <th>  Prob (F-statistic):</th> <td>0.000239</td>\n",
       "</tr>\n",
       "<tr>\n",
       "  <th>Time:</th>                 <td>07:14:44</td>     <th>  Log-Likelihood:    </th> <td> -28.046</td>\n",
       "</tr>\n",
       "<tr>\n",
       "  <th>No. Observations:</th>      <td>    10</td>      <th>  AIC:               </th> <td>   60.09</td>\n",
       "</tr>\n",
       "<tr>\n",
       "  <th>Df Residuals:</th>          <td>     8</td>      <th>  BIC:               </th> <td>   60.70</td>\n",
       "</tr>\n",
       "<tr>\n",
       "  <th>Df Model:</th>              <td>     1</td>      <th>                     </th>     <td> </td>   \n",
       "</tr>\n",
       "<tr>\n",
       "  <th>Covariance Type:</th>      <td>nonrobust</td>    <th>                     </th>     <td> </td>   \n",
       "</tr>\n",
       "</table>\n",
       "<table class=\"simpletable\">\n",
       "<tr>\n",
       "       <td></td>          <th>coef</th>     <th>std err</th>      <th>t</th>      <th>P>|t|</th>  <th>[0.025</th>    <th>0.975]</th>  \n",
       "</tr>\n",
       "<tr>\n",
       "  <th>Intercept</th>   <td>  244.3649</td> <td>   27.352</td> <td>    8.934</td> <td> 0.000</td> <td>  181.291</td> <td>  307.439</td>\n",
       "</tr>\n",
       "<tr>\n",
       "  <th>Salary_hike</th> <td>   -0.1015</td> <td>    0.016</td> <td>   -6.277</td> <td> 0.000</td> <td>   -0.139</td> <td>   -0.064</td>\n",
       "</tr>\n",
       "</table>\n",
       "<table class=\"simpletable\">\n",
       "<tr>\n",
       "  <th>Omnibus:</th>       <td> 2.201</td> <th>  Durbin-Watson:     </th> <td>   0.562</td>\n",
       "</tr>\n",
       "<tr>\n",
       "  <th>Prob(Omnibus):</th> <td> 0.333</td> <th>  Jarque-Bera (JB):  </th> <td>   1.408</td>\n",
       "</tr>\n",
       "<tr>\n",
       "  <th>Skew:</th>          <td> 0.851</td> <th>  Prob(JB):          </th> <td>   0.495</td>\n",
       "</tr>\n",
       "<tr>\n",
       "  <th>Kurtosis:</th>      <td> 2.304</td> <th>  Cond. No.          </th> <td>3.27e+04</td>\n",
       "</tr>\n",
       "</table><br/><br/>Warnings:<br/>[1] Standard Errors assume that the covariance matrix of the errors is correctly specified.<br/>[2] The condition number is large, 3.27e+04. This might indicate that there are<br/>strong multicollinearity or other numerical problems."
      ],
      "text/plain": [
       "<class 'statsmodels.iolib.summary.Summary'>\n",
       "\"\"\"\n",
       "                            OLS Regression Results                            \n",
       "==============================================================================\n",
       "Dep. Variable:         Churn_out_rate   R-squared:                       0.831\n",
       "Model:                            OLS   Adj. R-squared:                  0.810\n",
       "Method:                 Least Squares   F-statistic:                     39.40\n",
       "Date:                Fri, 12 Jun 2020   Prob (F-statistic):           0.000239\n",
       "Time:                        07:14:44   Log-Likelihood:                -28.046\n",
       "No. Observations:                  10   AIC:                             60.09\n",
       "Df Residuals:                       8   BIC:                             60.70\n",
       "Df Model:                           1                                         \n",
       "Covariance Type:            nonrobust                                         \n",
       "===============================================================================\n",
       "                  coef    std err          t      P>|t|      [0.025      0.975]\n",
       "-------------------------------------------------------------------------------\n",
       "Intercept     244.3649     27.352      8.934      0.000     181.291     307.439\n",
       "Salary_hike    -0.1015      0.016     -6.277      0.000      -0.139      -0.064\n",
       "==============================================================================\n",
       "Omnibus:                        2.201   Durbin-Watson:                   0.562\n",
       "Prob(Omnibus):                  0.333   Jarque-Bera (JB):                1.408\n",
       "Skew:                           0.851   Prob(JB):                        0.495\n",
       "Kurtosis:                       2.304   Cond. No.                     3.27e+04\n",
       "==============================================================================\n",
       "\n",
       "Warnings:\n",
       "[1] Standard Errors assume that the covariance matrix of the errors is correctly specified.\n",
       "[2] The condition number is large, 3.27e+04. This might indicate that there are\n",
       "strong multicollinearity or other numerical problems.\n",
       "\"\"\""
      ]
     },
     "execution_count": 9,
     "metadata": {},
     "output_type": "execute_result"
    }
   ],
   "source": [
    "# P-values for the variables and R-squared value for prepared model\n",
    "model1.summary()"
   ]
  },
  {
   "cell_type": "code",
   "execution_count": 10,
   "metadata": {},
   "outputs": [
    {
     "data": {
      "text/html": [
       "<div>\n",
       "<style scoped>\n",
       "    .dataframe tbody tr th:only-of-type {\n",
       "        vertical-align: middle;\n",
       "    }\n",
       "\n",
       "    .dataframe tbody tr th {\n",
       "        vertical-align: top;\n",
       "    }\n",
       "\n",
       "    .dataframe thead th {\n",
       "        text-align: right;\n",
       "    }\n",
       "</style>\n",
       "<table border=\"1\" class=\"dataframe\">\n",
       "  <thead>\n",
       "    <tr style=\"text-align: right;\">\n",
       "      <th></th>\n",
       "      <th>0</th>\n",
       "      <th>1</th>\n",
       "    </tr>\n",
       "  </thead>\n",
       "  <tbody>\n",
       "    <tr>\n",
       "      <th>Intercept</th>\n",
       "      <td>181.291232</td>\n",
       "      <td>307.438591</td>\n",
       "    </tr>\n",
       "    <tr>\n",
       "      <th>Salary_hike</th>\n",
       "      <td>-0.138845</td>\n",
       "      <td>-0.064240</td>\n",
       "    </tr>\n",
       "  </tbody>\n",
       "</table>\n",
       "</div>"
      ],
      "text/plain": [
       "                      0           1\n",
       "Intercept    181.291232  307.438591\n",
       "Salary_hike   -0.138845   -0.064240"
      ]
     },
     "execution_count": 10,
     "metadata": {},
     "output_type": "execute_result"
    }
   ],
   "source": [
    "model1.conf_int(0.05) #at 95% confidence interval"
   ]
  },
  {
   "cell_type": "code",
   "execution_count": 11,
   "metadata": {},
   "outputs": [],
   "source": [
    "pred = model1.predict(emp_data.iloc[:,0])"
   ]
  },
  {
   "cell_type": "code",
   "execution_count": 12,
   "metadata": {},
   "outputs": [
    {
     "data": {
      "text/plain": [
       "Text(0, 0.5, 'churn rate')"
      ]
     },
     "execution_count": 12,
     "metadata": {},
     "output_type": "execute_result"
    },
    {
     "data": {
      "image/png": "[encoded data removed]",
      "text/plain": [
       "<Figure size 432x288 with 1 Axes>"
      ]
     },
     "metadata": {
      "needs_background": "light"
     },
     "output_type": "display_data"
    }
   ],
   "source": [
    "# Visualization of regresion line over the scatter plot of Waist and AT\n",
    "# For visualization we need to import matplotlib.pyplot\n",
    "import matplotlib.pylab as plt\n",
    "\n",
    "plt.scatter(x=emp_data['Salary_hike'],y=emp_data['Churn_out_rate'],color='red');plt.plot(emp_data['Salary_hike'],pred,color='black');plt.xlabel('salary');plt.ylabel('churn rate')"
   ]
  },
  {
   "cell_type": "code",
   "execution_count": 16,
   "metadata": {},
   "outputs": [
    {
     "name": "stderr",
     "output_type": "stream",
     "text": [
      "C:\\Users\\cyadav\\AppData\\Local\\Continuum\\anaconda3\\lib\\site-packages\\scipy\\stats\\stats.py:1394: UserWarning: kurtosistest only valid for n>=20 ... continuing anyway, n=10\n",
      "  \"anyway, n=%i\" % int(n))\n"
     ]
    },
    {
     "data": {
      "text/html": [
       "<table class=\"simpletable\">\n",
       "<caption>OLS Regression Results</caption>\n",
       "<tr>\n",
       "  <th>Dep. Variable:</th>     <td>Churn_out_rate</td>  <th>  R-squared:         </th> <td>   0.849</td>\n",
       "</tr>\n",
       "<tr>\n",
       "  <th>Model:</th>                   <td>OLS</td>       <th>  Adj. R-squared:    </th> <td>   0.830</td>\n",
       "</tr>\n",
       "<tr>\n",
       "  <th>Method:</th>             <td>Least Squares</td>  <th>  F-statistic:       </th> <td>   44.85</td>\n",
       "</tr>\n",
       "<tr>\n",
       "  <th>Date:</th>             <td>Fri, 12 Jun 2020</td> <th>  Prob (F-statistic):</th> <td>0.000153</td>\n",
       "</tr>\n",
       "<tr>\n",
       "  <th>Time:</th>                 <td>07:16:48</td>     <th>  Log-Likelihood:    </th> <td> -27.502</td>\n",
       "</tr>\n",
       "<tr>\n",
       "  <th>No. Observations:</th>      <td>    10</td>      <th>  AIC:               </th> <td>   59.00</td>\n",
       "</tr>\n",
       "<tr>\n",
       "  <th>Df Residuals:</th>          <td>     8</td>      <th>  BIC:               </th> <td>   59.61</td>\n",
       "</tr>\n",
       "<tr>\n",
       "  <th>Df Model:</th>              <td>     1</td>      <th>                     </th>     <td> </td>   \n",
       "</tr>\n",
       "<tr>\n",
       "  <th>Covariance Type:</th>      <td>nonrobust</td>    <th>                     </th>     <td> </td>   \n",
       "</tr>\n",
       "</table>\n",
       "<table class=\"simpletable\">\n",
       "<tr>\n",
       "           <td></td>              <th>coef</th>     <th>std err</th>      <th>t</th>      <th>P>|t|</th>  <th>[0.025</th>    <th>0.975]</th>  \n",
       "</tr>\n",
       "<tr>\n",
       "  <th>Intercept</th>           <td> 1381.4562</td> <td>  195.402</td> <td>    7.070</td> <td> 0.000</td> <td>  930.858</td> <td> 1832.054</td>\n",
       "</tr>\n",
       "<tr>\n",
       "  <th>np.log(Salary_hike)</th> <td> -176.1097</td> <td>   26.297</td> <td>   -6.697</td> <td> 0.000</td> <td> -236.751</td> <td> -115.468</td>\n",
       "</tr>\n",
       "</table>\n",
       "<table class=\"simpletable\">\n",
       "<tr>\n",
       "  <th>Omnibus:</th>       <td> 2.213</td> <th>  Durbin-Watson:     </th> <td>   0.571</td>\n",
       "</tr>\n",
       "<tr>\n",
       "  <th>Prob(Omnibus):</th> <td> 0.331</td> <th>  Jarque-Bera (JB):  </th> <td>   1.418</td>\n",
       "</tr>\n",
       "<tr>\n",
       "  <th>Skew:</th>          <td> 0.853</td> <th>  Prob(JB):          </th> <td>   0.492</td>\n",
       "</tr>\n",
       "<tr>\n",
       "  <th>Kurtosis:</th>      <td> 2.298</td> <th>  Cond. No.          </th> <td>1.10e+03</td>\n",
       "</tr>\n",
       "</table><br/><br/>Warnings:<br/>[1] Standard Errors assume that the covariance matrix of the errors is correctly specified.<br/>[2] The condition number is large, 1.1e+03. This might indicate that there are<br/>strong multicollinearity or other numerical problems."
      ],
      "text/plain": [
       "<class 'statsmodels.iolib.summary.Summary'>\n",
       "\"\"\"\n",
       "                            OLS Regression Results                            \n",
       "==============================================================================\n",
       "Dep. Variable:         Churn_out_rate   R-squared:                       0.849\n",
       "Model:                            OLS   Adj. R-squared:                  0.830\n",
       "Method:                 Least Squares   F-statistic:                     44.85\n",
       "Date:                Fri, 12 Jun 2020   Prob (F-statistic):           0.000153\n",
       "Time:                        07:16:48   Log-Likelihood:                -27.502\n",
       "No. Observations:                  10   AIC:                             59.00\n",
       "Df Residuals:                       8   BIC:                             59.61\n",
       "Df Model:                           1                                         \n",
       "Covariance Type:            nonrobust                                         \n",
       "=======================================================================================\n",
       "                          coef    std err          t      P>|t|      [0.025      0.975]\n",
       "---------------------------------------------------------------------------------------\n",
       "Intercept            1381.4562    195.402      7.070      0.000     930.858    1832.054\n",
       "np.log(Salary_hike)  -176.1097     26.297     -6.697      0.000    -236.751    -115.468\n",
       "==============================================================================\n",
       "Omnibus:                        2.213   Durbin-Watson:                   0.571\n",
       "Prob(Omnibus):                  0.331   Jarque-Bera (JB):                1.418\n",
       "Skew:                           0.853   Prob(JB):                        0.492\n",
       "Kurtosis:                       2.298   Cond. No.                     1.10e+03\n",
       "==============================================================================\n",
       "\n",
       "Warnings:\n",
       "[1] Standard Errors assume that the covariance matrix of the errors is correctly specified.\n",
       "[2] The condition number is large, 1.1e+03. This might indicate that there are\n",
       "strong multicollinearity or other numerical problems.\n",
       "\"\"\""
      ]
     },
     "execution_count": 16,
     "metadata": {},
     "output_type": "execute_result"
    }
   ],
   "source": [
    "#transforming variables for better acuracy\n",
    "\n",
    "model2 = smf.ols(\"Churn_out_rate~np.log(Salary_hike)\",data=emp_data).fit()\n",
    "model2.params\n",
    "model2.summary()"
   ]
  },
  {
   "cell_type": "code",
   "execution_count": 19,
   "metadata": {},
   "outputs": [
    {
     "name": "stdout",
     "output_type": "stream",
     "text": [
      "                              0            1\n",
      "Intercept            725.806856  2037.105529\n",
      "np.log(Salary_hike) -264.347078   -87.872392\n"
     ]
    }
   ],
   "source": [
    "print(model2.conf_int(0.01)) # 99% confidence level"
   ]
  },
  {
   "cell_type": "code",
   "execution_count": 21,
   "metadata": {},
   "outputs": [
    {
     "data": {
      "text/plain": [
       "0.921207731211886"
      ]
     },
     "execution_count": 21,
     "metadata": {},
     "output_type": "execute_result"
    }
   ],
   "source": [
    "pred2 = model2.predict(pd.DataFrame(emp_data['Salary_hike']))\n",
    "pred2.corr(emp_data.Churn_out_rate)"
   ]
  },
  {
   "cell_type": "code",
   "execution_count": 40,
   "metadata": {},
   "outputs": [
    {
     "data": {
      "text/plain": [
       "Text(0, 0.5, 'churn_out_rate')"
      ]
     },
     "execution_count": 40,
     "metadata": {},
     "output_type": "execute_result"
    },
    {
     "data": {
      "image/png": "[encoded data removed]",
      "text/plain": [
       "<Figure size 432x288 with 1 Axes>"
      ]
     },
     "metadata": {
      "needs_background": "light"
     },
     "output_type": "display_data"
    }
   ],
   "source": [
    "plt.scatter(x=emp_data['Salary_hike'],y=emp_data['Churn_out_rate'],color='Black');plt.plot(emp_data['Salary_hike'],pred2,color='Blue');plt.xlabel('salary');plt.ylabel('churn_out_rate')"
   ]
  },
  {
   "cell_type": "code",
   "execution_count": 17,
   "metadata": {},
   "outputs": [
    {
     "name": "stderr",
     "output_type": "stream",
     "text": [
      "C:\\Users\\cyadav\\AppData\\Local\\Continuum\\anaconda3\\lib\\site-packages\\scipy\\stats\\stats.py:1394: UserWarning: kurtosistest only valid for n>=20 ... continuing anyway, n=10\n",
      "  \"anyway, n=%i\" % int(n))\n"
     ]
    },
    {
     "data": {
      "text/html": [
       "<table class=\"simpletable\">\n",
       "<caption>OLS Regression Results</caption>\n",
       "<tr>\n",
       "  <th>Dep. Variable:</th>    <td>np.log(Churn_out_rate)</td> <th>  R-squared:         </th> <td>   0.874</td>\n",
       "</tr>\n",
       "<tr>\n",
       "  <th>Model:</th>                      <td>OLS</td>          <th>  Adj. R-squared:    </th> <td>   0.858</td>\n",
       "</tr>\n",
       "<tr>\n",
       "  <th>Method:</th>                <td>Least Squares</td>     <th>  F-statistic:       </th> <td>   55.26</td>\n",
       "</tr>\n",
       "<tr>\n",
       "  <th>Date:</th>                <td>Fri, 12 Jun 2020</td>    <th>  Prob (F-statistic):</th> <td>7.38e-05</td>\n",
       "</tr>\n",
       "<tr>\n",
       "  <th>Time:</th>                    <td>07:21:22</td>        <th>  Log-Likelihood:    </th> <td>  16.511</td>\n",
       "</tr>\n",
       "<tr>\n",
       "  <th>No. Observations:</th>         <td>    10</td>         <th>  AIC:               </th> <td>  -29.02</td>\n",
       "</tr>\n",
       "<tr>\n",
       "  <th>Df Residuals:</th>             <td>     8</td>         <th>  BIC:               </th> <td>  -28.42</td>\n",
       "</tr>\n",
       "<tr>\n",
       "  <th>Df Model:</th>                 <td>     1</td>         <th>                     </th>     <td> </td>   \n",
       "</tr>\n",
       "<tr>\n",
       "  <th>Covariance Type:</th>         <td>nonrobust</td>       <th>                     </th>     <td> </td>   \n",
       "</tr>\n",
       "</table>\n",
       "<table class=\"simpletable\">\n",
       "<tr>\n",
       "       <td></td>          <th>coef</th>     <th>std err</th>      <th>t</th>      <th>P>|t|</th>  <th>[0.025</th>    <th>0.975]</th>  \n",
       "</tr>\n",
       "<tr>\n",
       "  <th>Intercept</th>   <td>    6.6383</td> <td>    0.318</td> <td>   20.902</td> <td> 0.000</td> <td>    5.906</td> <td>    7.371</td>\n",
       "</tr>\n",
       "<tr>\n",
       "  <th>Salary_hike</th> <td>   -0.0014</td> <td>    0.000</td> <td>   -7.434</td> <td> 0.000</td> <td>   -0.002</td> <td>   -0.001</td>\n",
       "</tr>\n",
       "</table>\n",
       "<table class=\"simpletable\">\n",
       "<tr>\n",
       "  <th>Omnibus:</th>       <td> 1.935</td> <th>  Durbin-Watson:     </th> <td>   0.585</td>\n",
       "</tr>\n",
       "<tr>\n",
       "  <th>Prob(Omnibus):</th> <td> 0.380</td> <th>  Jarque-Bera (JB):  </th> <td>   1.314</td>\n",
       "</tr>\n",
       "<tr>\n",
       "  <th>Skew:</th>          <td> 0.780</td> <th>  Prob(JB):          </th> <td>   0.519</td>\n",
       "</tr>\n",
       "<tr>\n",
       "  <th>Kurtosis:</th>      <td> 2.152</td> <th>  Cond. No.          </th> <td>3.27e+04</td>\n",
       "</tr>\n",
       "</table><br/><br/>Warnings:<br/>[1] Standard Errors assume that the covariance matrix of the errors is correctly specified.<br/>[2] The condition number is large, 3.27e+04. This might indicate that there are<br/>strong multicollinearity or other numerical problems."
      ],
      "text/plain": [
       "<class 'statsmodels.iolib.summary.Summary'>\n",
       "\"\"\"\n",
       "                              OLS Regression Results                              \n",
       "==================================================================================\n",
       "Dep. Variable:     np.log(Churn_out_rate)   R-squared:                       0.874\n",
       "Model:                                OLS   Adj. R-squared:                  0.858\n",
       "Method:                     Least Squares   F-statistic:                     55.26\n",
       "Date:                    Fri, 12 Jun 2020   Prob (F-statistic):           7.38e-05\n",
       "Time:                            07:21:22   Log-Likelihood:                 16.511\n",
       "No. Observations:                      10   AIC:                            -29.02\n",
       "Df Residuals:                           8   BIC:                            -28.42\n",
       "Df Model:                               1                                         \n",
       "Covariance Type:                nonrobust                                         \n",
       "===============================================================================\n",
       "                  coef    std err          t      P>|t|      [0.025      0.975]\n",
       "-------------------------------------------------------------------------------\n",
       "Intercept       6.6383      0.318     20.902      0.000       5.906       7.371\n",
       "Salary_hike    -0.0014      0.000     -7.434      0.000      -0.002      -0.001\n",
       "==============================================================================\n",
       "Omnibus:                        1.935   Durbin-Watson:                   0.585\n",
       "Prob(Omnibus):                  0.380   Jarque-Bera (JB):                1.314\n",
       "Skew:                           0.780   Prob(JB):                        0.519\n",
       "Kurtosis:                       2.152   Cond. No.                     3.27e+04\n",
       "==============================================================================\n",
       "\n",
       "Warnings:\n",
       "[1] Standard Errors assume that the covariance matrix of the errors is correctly specified.\n",
       "[2] The condition number is large, 3.27e+04. This might indicate that there are\n",
       "strong multicollinearity or other numerical problems.\n",
       "\"\"\""
      ]
     },
     "execution_count": 17,
     "metadata": {},
     "output_type": "execute_result"
    }
   ],
   "source": [
    "#Exponential tranformation on the out put variable\n",
    "\n",
    "model3 = smf.ols(\"np.log(Churn_out_rate)~Salary_hike\",data=emp_data).fit()\n",
    "model3.params\n",
    "model3.summary()"
   ]
  },
  {
   "cell_type": "code",
   "execution_count": 48,
   "metadata": {},
   "outputs": [
    {
     "data": {
      "text/plain": [
       "0.9117216186909108"
      ]
     },
     "execution_count": 48,
     "metadata": {},
     "output_type": "execute_result"
    }
   ],
   "source": [
    "pred3 = model3.predict(pd.DataFrame(emp_data['Salary_hike']))\n",
    "pred3.corr(emp_data.Churn_out_rate)\n"
   ]
  },
  {
   "cell_type": "code",
   "execution_count": 49,
   "metadata": {},
   "outputs": [
    {
     "data": {
      "text/plain": [
       "0    84.107097\n",
       "1    81.790758\n",
       "2    80.656622\n",
       "3    77.347701\n",
       "4    75.217518\n",
       "5    72.131736\n",
       "6    70.538084\n",
       "7    68.213379\n",
       "8    61.861455\n",
       "9    56.101012\n",
       "dtype: float64"
      ]
     },
     "execution_count": 49,
     "metadata": {},
     "output_type": "execute_result"
    }
   ],
   "source": [
    "pred3=np.exp(pred3)\n",
    "pred3"
   ]
  },
  {
   "cell_type": "code",
   "execution_count": 50,
   "metadata": {},
   "outputs": [
    {
     "data": {
      "text/plain": [
       "Text(0, 0.5, 'churn_out_rate')"
      ]
     },
     "execution_count": 50,
     "metadata": {},
     "output_type": "execute_result"
    },
    {
     "data": {
      "image/png": "[encoded data removed]",
      "text/plain": [
       "<Figure size 432x288 with 1 Axes>"
      ]
     },
     "metadata": {
      "needs_background": "light"
     },
     "output_type": "display_data"
    }
   ],
   "source": [
    "plt.scatter(x=emp_data['Salary_hike'],y=emp_data['Churn_out_rate'],color='Black');plt.plot(emp_data['Salary_hike'],pred3,color='Blue');plt.xlabel('salary');plt.ylabel('churn_out_rate')"
   ]
  },
  {
   "cell_type": "code",
   "execution_count": null,
   "metadata": {},
   "outputs": [],
   "source": [
    "# Rsquared values for\n",
    "# Model1 = 0.831\n",
    "# Model2 = 0.849\n",
    "# Model3 = 0.874\n",
    "\n",
    "# so we will consider the model having highest R-Squared value which is the log transformation - model3"
   ]
  }
 ],
 "metadata": {
  "kernelspec": {
   "display_name": "Python 3",
   "language": "python",
   "name": "python3"
  },
  "language_info": {
   "codemirror_mode": {
    "name": "ipython",
    "version": 3
   },
   "file_extension": ".py",
   "mimetype": "text/x-python",
   "name": "python",
   "nbconvert_exporter": "python",
   "pygments_lexer": "ipython3",
   "version": "3.7.1"
  }
 },
 "nbformat": 4,
 "nbformat_minor": 2
}
